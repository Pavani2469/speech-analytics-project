{
 "cells": [
  {
   "cell_type": "code",
   "execution_count": 18,
   "metadata": {},
   "outputs": [],
   "source": [
    "# Cell 1: Import necessary libraries\n",
    "import os\n",
    "import glob\n",
    "import numpy as np\n",
    "import librosa\n",
    "from sklearn.model_selection import train_test_split\n",
    "from sklearn.preprocessing import StandardScaler\n",
    "from sklearn.neural_network import MLPClassifier\n",
    "from sklearn.metrics import accuracy_score, classification_report\n",
    "import pickle\n"
   ]
  },
  {
   "cell_type": "code",
   "execution_count": 19,
   "metadata": {},
   "outputs": [],
   "source": [
    "# Cell 2: Define emotions and feature extraction function\n",
    "\n",
    "# Emotions mapping\n",
    "emotions = {\n",
    "    \"01\": \"neutral\",\n",
    "    \"02\": \"calm\",\n",
    "    \"03\": \"happy\",\n",
    "    \"04\": \"sad\",\n",
    "    \"05\": \"angry\",\n",
    "    \"06\": \"fearful\",\n",
    "    \"07\": \"disgust\",\n",
    "    \"08\": \"surprised\"\n",
    "}\n",
    "\n",
    "observed_emotions = [\"neutral\", \"happy\", \"sad\", \"angry\"]\n",
    "\n",
    "def extract_feature(file_name, mfcc=True, chroma=True, mel=True):\n",
    "    \"\"\"\n",
    "    Extract features from an audio file using librosa.\n",
    "    \n",
    "    Parameters:\n",
    "        file_name (str): Path to the audio file.\n",
    "        mfcc (bool): Whether to extract MFCC features.\n",
    "        chroma (bool): Whether to extract Chroma features.\n",
    "        mel (bool): Whether to extract Mel-spectrogram features.\n",
    "\n",
    "    Returns:\n",
    "        features (list): List of extracted features.\n",
    "    \"\"\"\n",
    "    audio, sr = librosa.load(file_name, sr=None)  # Load the audio file\n",
    "    \n",
    "    features = []\n",
    "\n",
    "    if mfcc:\n",
    "        mfccs = librosa.feature.mfcc(y=audio, sr=sr, n_mfcc=13)\n",
    "        mfccs = np.mean(mfccs, axis=1)\n",
    "        features.extend(mfccs)\n",
    "\n",
    "    if chroma:\n",
    "        chroma_features = librosa.feature.chroma_stft(y=audio, sr=sr)\n",
    "        chroma_features = np.mean(chroma_features, axis=1)\n",
    "        features.extend(chroma_features)\n",
    "\n",
    "    if mel:\n",
    "        mel_features = librosa.feature.melspectrogram(y=audio, sr=sr)\n",
    "        mel_features = np.mean(mel_features, axis=1)\n",
    "        features.extend(mel_features)\n",
    "\n",
    "    return features\n"
   ]
  },
  {
   "cell_type": "code",
   "execution_count": 20,
   "metadata": {},
   "outputs": [],
   "source": [
    "# Cell 3: Load dataset and extract features\n",
    "def load_data(dataset_path, test_size=0.25):\n",
    "    \"\"\"\n",
    "    Load the dataset and extract features for each audio file.\n",
    "    \n",
    "    Parameters:\n",
    "        dataset_path (str): Path to the dataset folder.\n",
    "        test_size (float): Proportion of the dataset to include in the test split.\n",
    "\n",
    "    Returns:\n",
    "        x_train, x_test, y_train, y_test: Training and testing datasets (features and labels).\n",
    "    \"\"\"\n",
    "    x, y = [], []\n",
    "    \n",
    "    # Use glob to find all .wav files in the dataset\n",
    "    audio_files = glob.glob(os.path.join(dataset_path, \"Actor_*\", \"*.wav\"))\n",
    "\n",
    "    if not audio_files:\n",
    "        raise FileNotFoundError(f\"No audio files found in the specified path: {dataset_path}\")\n",
    "    \n",
    "    print(f\"Found {len(audio_files)} audio files.\")\n",
    "    \n",
    "    # Process each file\n",
    "    for file in audio_files:\n",
    "        try:\n",
    "            file_name = os.path.basename(file)\n",
    "            emotion = emotions[file_name.split(\"-\")[2]]  # Extract emotion from the filename\n",
    "            \n",
    "            # Skip emotions not in the observed list\n",
    "            if emotion not in observed_emotions:\n",
    "                continue\n",
    "\n",
    "            # Extract features\n",
    "            feature = extract_feature(file, mfcc=True, chroma=True, mel=True)\n",
    "            x.append(feature)\n",
    "            y.append(emotion)\n",
    "        except Exception as e:\n",
    "            print(f\"Error processing file {file}: {e}\")\n",
    "\n",
    "    if not x or not y:\n",
    "        raise ValueError(\"No data was loaded. Please check the dataset and preprocessing steps.\")\n",
    "    \n",
    "    # Convert to numpy array for ML processing\n",
    "    x = np.array(x)\n",
    "\n",
    "    # Split the data into training and testing sets\n",
    "    return train_test_split(x, y, test_size=test_size, random_state=9)\n"
   ]
  },
  {
   "cell_type": "code",
   "execution_count": 21,
   "metadata": {},
   "outputs": [
    {
     "name": "stdout",
     "output_type": "stream",
     "text": [
      "Found 1440 audio files.\n",
      "Training set size: 504, Testing set size: 168\n",
      "Features extracted: 153\n"
     ]
    }
   ],
   "source": [
    "# Cell 4: Preprocess data (Normalize features)\n",
    "# Load data\n",
    "dataset_path = \"C:/Users/veere/Downloads/Speech Analysis project/speech-emotion-recognition-ravdess-data\"\n",
    "x_train, x_test, y_train, y_test = load_data(dataset_path, test_size=0.25)\n",
    "\n",
    "# Normalize the features using StandardScaler\n",
    "scaler = StandardScaler()\n",
    "x_train = scaler.fit_transform(x_train)\n",
    "x_test = scaler.transform(x_test)\n",
    "\n",
    "print(f\"Training set size: {len(x_train)}, Testing set size: {len(x_test)}\")\n",
    "print(f\"Features extracted: {x_train.shape[1]}\")\n"
   ]
  },
  {
   "cell_type": "code",
   "execution_count": 22,
   "metadata": {},
   "outputs": [
    {
     "name": "stdout",
     "output_type": "stream",
     "text": [
      "Accuracy: 72.62%\n",
      "Classification Report:\n",
      "              precision    recall  f1-score   support\n",
      "\n",
      "       angry       0.88      0.94      0.91        49\n",
      "       happy       0.67      0.64      0.66        45\n",
      "     neutral       0.57      0.59      0.58        27\n",
      "         sad       0.69      0.66      0.67        47\n",
      "\n",
      "    accuracy                           0.73       168\n",
      "   macro avg       0.70      0.71      0.71       168\n",
      "weighted avg       0.72      0.73      0.72       168\n",
      "\n"
     ]
    }
   ],
   "source": [
    "# Cell 5: Train the model (MLP Classifier)\n",
    "# Train an MLPClassifier\n",
    "mlp = MLPClassifier(alpha=0.01, batch_size=256, hidden_layer_sizes=(300,),\n",
    "                    learning_rate='adaptive', max_iter=500)\n",
    "\n",
    "mlp.fit(x_train, y_train)\n",
    "\n",
    "# Evaluate the model\n",
    "y_pred = mlp.predict(x_test)\n",
    "accuracy = accuracy_score(y_test, y_pred)\n",
    "print(f\"Accuracy: {accuracy * 100:.2f}%\")\n",
    "\n",
    "# Print classification report\n",
    "print(\"Classification Report:\")\n",
    "print(classification_report(y_test, y_pred))\n"
   ]
  },
  {
   "cell_type": "code",
   "execution_count": 29,
   "metadata": {},
   "outputs": [
    {
     "name": "stdout",
     "output_type": "stream",
     "text": [
      "Predicted emotion: happy\n"
     ]
    }
   ],
   "source": [
    "# Cell 6: Save the trained model using pickle\n",
    "# Save model to disk\n",
    "filename = 'speech_emotion_model.pkl'\n",
    "with open(filename, 'wb') as file:\n",
    "    pickle.dump(mlp, file)\n",
    "\n",
    "# Load the model from disk\n",
    "with open(filename, 'rb') as file:\n",
    "    loaded_model = pickle.load(file)\n",
    "\n",
    "# Test the loaded model\n",
    "test_file = \"speech-emotion-recognition-ravdess-data/Actor_01/03-01-08-02-02-02-01.wav\"\n",
    "feature = extract_feature(test_file, mfcc=True, chroma=True, mel=True)\n",
    "feature = np.array(feature).reshape(1, -1)  # Reshape for prediction\n",
    "\n",
    "# Normalize the feature before prediction\n",
    "feature = scaler.transform(feature)\n",
    "prediction = loaded_model.predict(feature)\n",
    "\n",
    "print(f\"Predicted emotion: {prediction[0]}\")\n"
   ]
  },
  {
   "cell_type": "code",
   "execution_count": 30,
   "metadata": {},
   "outputs": [
    {
     "name": "stdout",
     "output_type": "stream",
     "text": [
      "Model accuracy: 74.40%\n"
     ]
    }
   ],
   "source": [
    "# Assuming your model is already trained, like so:\n",
    "from sklearn.neural_network import MLPClassifier\n",
    "from sklearn.metrics import accuracy_score\n",
    "\n",
    "# Step 1: Train the model\n",
    "model = MLPClassifier(alpha=0.01, batch_size=256, hidden_layer_sizes=(300,), learning_rate='adaptive', max_iter=500)\n",
    "model.fit(x_train, y_train)\n",
    "\n",
    "# Step 2: Make predictions on the test set\n",
    "y_pred = model.predict(x_test)\n",
    "\n",
    "# Step 3: Calculate accuracy\n",
    "accuracy = accuracy_score(y_test, y_pred)\n",
    "\n",
    "print(f\"Model accuracy: {accuracy * 100:.2f}%\")\n"
   ]
  }
 ],
 "metadata": {
  "kernelspec": {
   "display_name": "Python 3",
   "language": "python",
   "name": "python3"
  },
  "language_info": {
   "codemirror_mode": {
    "name": "ipython",
    "version": 3
   },
   "file_extension": ".py",
   "mimetype": "text/x-python",
   "name": "python",
   "nbconvert_exporter": "python",
   "pygments_lexer": "ipython3",
   "version": "3.12.6"
  }
 },
 "nbformat": 4,
 "nbformat_minor": 2
}
